{
 "cells": [
  {
   "cell_type": "markdown",
   "metadata": {
    "id": "HLBrM4Jv1WTv"
   },
   "source": [
    "## **Multi-Label Image Classification on Movies Poster using CNN**"
   ]
  },
  {
   "cell_type": "markdown",
   "metadata": {
    "id": "QFrbu6jiQVs6"
   },
   "source": [
    "We are trying to identify the genre of movies from their posters using Deep Learning methods "
   ]
  },
  {
   "cell_type": "markdown",
   "metadata": {
    "id": "0dshZ0zU2DxJ"
   },
   "source": [
    "**Importing necessary libraries**"
   ]
  },
  {
   "cell_type": "code",
   "execution_count": 1,
   "metadata": {
    "id": "DjeHcWnx1QRi"
   },
   "outputs": [],
   "source": [
    "import numpy as np\n",
    "import pandas as pd\n",
    "import matplotlib.pyplot as plt\n",
    "from sklearn.model_selection import train_test_split\n",
    "from tqdm import tqdm\n",
    "import seaborn as sns\n",
    "import tensorflow as tf\n",
    "from tensorflow import keras\n",
    "from tensorflow.keras import layers\n",
    "from tensorflow.keras import Sequential\n",
    "from tensorflow.keras.layers import Flatten, Dense, Dropout, BatchNormalization, Conv2D, MaxPool2D\n",
    "from tensorflow.keras.optimizers import Adam\n",
    "from tensorflow.keras.preprocessing import image"
   ]
  },
  {
   "cell_type": "markdown",
   "metadata": {
    "id": "SnyOjUzL2u5K"
   },
   "source": [
    "**Cloning the Datasets from GitHub link**"
   ]
  },
  {
   "cell_type": "code",
   "execution_count": 2,
   "metadata": {
    "colab": {
     "base_uri": "https://localhost:8080/"
    },
    "id": "e4Q3aQHsmnlo",
    "outputId": "a18fe386-8b8a-46f2-8406-3aab5ced3cde"
   },
   "outputs": [
    {
     "name": "stdout",
     "output_type": "stream",
     "text": [
      "Cloning into 'Movies-Poster_Dataset'...\n",
      "remote: Enumerating objects: 7873, done.\u001b[K\n",
      "remote: Total 7873 (delta 0), reused 0 (delta 0), pack-reused 7873\u001b[K\n",
      "Receiving objects: 100% (7873/7873), 246.59 MiB | 44.28 MiB/s, done.\n",
      "Resolving deltas: 100% (1/1), done.\n",
      "Checking out files: 100% (7871/7871), done.\n"
     ]
    }
   ],
   "source": [
    "!git clone https://github.com/laxmimerit/Movies-Poster_Dataset.git"
   ]
  },
  {
   "cell_type": "code",
   "execution_count": 3,
   "metadata": {
    "id": "HB7mMtoIYqwB"
   },
   "outputs": [],
   "source": [
    "Metadata=pd.read_csv('/content/Movies-Poster_Dataset/train.csv')"
   ]
  },
  {
   "cell_type": "code",
   "execution_count": 4,
   "metadata": {
    "colab": {
     "base_uri": "https://localhost:8080/"
    },
    "id": "3Vnsm6uWmns8",
    "outputId": "4ab83db7-bcb3-48d1-c862-7e852d7389a7"
   },
   "outputs": [
    {
     "data": {
      "text/plain": [
       "(7254, 27)"
      ]
     },
     "execution_count": 4,
     "metadata": {
      "tags": []
     },
     "output_type": "execute_result"
    }
   ],
   "source": [
    "Metadata.shape"
   ]
  },
  {
   "cell_type": "code",
   "execution_count": 5,
   "metadata": {
    "colab": {
     "base_uri": "https://localhost:8080/",
     "height": 333
    },
    "id": "CSIo65qJmnvS",
    "outputId": "4d2ccdc8-228c-499f-8c6c-38f1d7e72754"
   },
   "outputs": [
    {
     "data": {
      "text/html": [
       "<div>\n",
       "<style scoped>\n",
       "    .dataframe tbody tr th:only-of-type {\n",
       "        vertical-align: middle;\n",
       "    }\n",
       "\n",
       "    .dataframe tbody tr th {\n",
       "        vertical-align: top;\n",
       "    }\n",
       "\n",
       "    .dataframe thead th {\n",
       "        text-align: right;\n",
       "    }\n",
       "</style>\n",
       "<table border=\"1\" class=\"dataframe\">\n",
       "  <thead>\n",
       "    <tr style=\"text-align: right;\">\n",
       "      <th></th>\n",
       "      <th>Id</th>\n",
       "      <th>Genre</th>\n",
       "      <th>Action</th>\n",
       "      <th>Adventure</th>\n",
       "      <th>Animation</th>\n",
       "      <th>Biography</th>\n",
       "      <th>Comedy</th>\n",
       "      <th>Crime</th>\n",
       "      <th>Documentary</th>\n",
       "      <th>Drama</th>\n",
       "      <th>Family</th>\n",
       "      <th>Fantasy</th>\n",
       "      <th>History</th>\n",
       "      <th>Horror</th>\n",
       "      <th>Music</th>\n",
       "      <th>Musical</th>\n",
       "      <th>Mystery</th>\n",
       "      <th>N/A</th>\n",
       "      <th>News</th>\n",
       "      <th>Reality-TV</th>\n",
       "      <th>Romance</th>\n",
       "      <th>Sci-Fi</th>\n",
       "      <th>Short</th>\n",
       "      <th>Sport</th>\n",
       "      <th>Thriller</th>\n",
       "      <th>War</th>\n",
       "      <th>Western</th>\n",
       "    </tr>\n",
       "  </thead>\n",
       "  <tbody>\n",
       "    <tr>\n",
       "      <th>0</th>\n",
       "      <td>tt0086425</td>\n",
       "      <td>['Comedy', 'Drama']</td>\n",
       "      <td>0</td>\n",
       "      <td>0</td>\n",
       "      <td>0</td>\n",
       "      <td>0</td>\n",
       "      <td>1</td>\n",
       "      <td>0</td>\n",
       "      <td>0</td>\n",
       "      <td>1</td>\n",
       "      <td>0</td>\n",
       "      <td>0</td>\n",
       "      <td>0</td>\n",
       "      <td>0</td>\n",
       "      <td>0</td>\n",
       "      <td>0</td>\n",
       "      <td>0</td>\n",
       "      <td>0</td>\n",
       "      <td>0</td>\n",
       "      <td>0</td>\n",
       "      <td>0</td>\n",
       "      <td>0</td>\n",
       "      <td>0</td>\n",
       "      <td>0</td>\n",
       "      <td>0</td>\n",
       "      <td>0</td>\n",
       "      <td>0</td>\n",
       "    </tr>\n",
       "    <tr>\n",
       "      <th>1</th>\n",
       "      <td>tt0085549</td>\n",
       "      <td>['Drama', 'Romance', 'Music']</td>\n",
       "      <td>0</td>\n",
       "      <td>0</td>\n",
       "      <td>0</td>\n",
       "      <td>0</td>\n",
       "      <td>0</td>\n",
       "      <td>0</td>\n",
       "      <td>0</td>\n",
       "      <td>1</td>\n",
       "      <td>0</td>\n",
       "      <td>0</td>\n",
       "      <td>0</td>\n",
       "      <td>0</td>\n",
       "      <td>1</td>\n",
       "      <td>0</td>\n",
       "      <td>0</td>\n",
       "      <td>0</td>\n",
       "      <td>0</td>\n",
       "      <td>0</td>\n",
       "      <td>1</td>\n",
       "      <td>0</td>\n",
       "      <td>0</td>\n",
       "      <td>0</td>\n",
       "      <td>0</td>\n",
       "      <td>0</td>\n",
       "      <td>0</td>\n",
       "    </tr>\n",
       "    <tr>\n",
       "      <th>2</th>\n",
       "      <td>tt0086465</td>\n",
       "      <td>['Comedy']</td>\n",
       "      <td>0</td>\n",
       "      <td>0</td>\n",
       "      <td>0</td>\n",
       "      <td>0</td>\n",
       "      <td>1</td>\n",
       "      <td>0</td>\n",
       "      <td>0</td>\n",
       "      <td>0</td>\n",
       "      <td>0</td>\n",
       "      <td>0</td>\n",
       "      <td>0</td>\n",
       "      <td>0</td>\n",
       "      <td>0</td>\n",
       "      <td>0</td>\n",
       "      <td>0</td>\n",
       "      <td>0</td>\n",
       "      <td>0</td>\n",
       "      <td>0</td>\n",
       "      <td>0</td>\n",
       "      <td>0</td>\n",
       "      <td>0</td>\n",
       "      <td>0</td>\n",
       "      <td>0</td>\n",
       "      <td>0</td>\n",
       "      <td>0</td>\n",
       "    </tr>\n",
       "    <tr>\n",
       "      <th>3</th>\n",
       "      <td>tt0086567</td>\n",
       "      <td>['Sci-Fi', 'Thriller']</td>\n",
       "      <td>0</td>\n",
       "      <td>0</td>\n",
       "      <td>0</td>\n",
       "      <td>0</td>\n",
       "      <td>0</td>\n",
       "      <td>0</td>\n",
       "      <td>0</td>\n",
       "      <td>0</td>\n",
       "      <td>0</td>\n",
       "      <td>0</td>\n",
       "      <td>0</td>\n",
       "      <td>0</td>\n",
       "      <td>0</td>\n",
       "      <td>0</td>\n",
       "      <td>0</td>\n",
       "      <td>0</td>\n",
       "      <td>0</td>\n",
       "      <td>0</td>\n",
       "      <td>0</td>\n",
       "      <td>1</td>\n",
       "      <td>0</td>\n",
       "      <td>0</td>\n",
       "      <td>1</td>\n",
       "      <td>0</td>\n",
       "      <td>0</td>\n",
       "    </tr>\n",
       "    <tr>\n",
       "      <th>4</th>\n",
       "      <td>tt0086034</td>\n",
       "      <td>['Action', 'Adventure', 'Thriller']</td>\n",
       "      <td>1</td>\n",
       "      <td>1</td>\n",
       "      <td>0</td>\n",
       "      <td>0</td>\n",
       "      <td>0</td>\n",
       "      <td>0</td>\n",
       "      <td>0</td>\n",
       "      <td>0</td>\n",
       "      <td>0</td>\n",
       "      <td>0</td>\n",
       "      <td>0</td>\n",
       "      <td>0</td>\n",
       "      <td>0</td>\n",
       "      <td>0</td>\n",
       "      <td>0</td>\n",
       "      <td>0</td>\n",
       "      <td>0</td>\n",
       "      <td>0</td>\n",
       "      <td>0</td>\n",
       "      <td>0</td>\n",
       "      <td>0</td>\n",
       "      <td>0</td>\n",
       "      <td>1</td>\n",
       "      <td>0</td>\n",
       "      <td>0</td>\n",
       "    </tr>\n",
       "  </tbody>\n",
       "</table>\n",
       "</div>"
      ],
      "text/plain": [
       "          Id                                Genre  ...  War  Western\n",
       "0  tt0086425                  ['Comedy', 'Drama']  ...    0        0\n",
       "1  tt0085549        ['Drama', 'Romance', 'Music']  ...    0        0\n",
       "2  tt0086465                           ['Comedy']  ...    0        0\n",
       "3  tt0086567               ['Sci-Fi', 'Thriller']  ...    0        0\n",
       "4  tt0086034  ['Action', 'Adventure', 'Thriller']  ...    0        0\n",
       "\n",
       "[5 rows x 27 columns]"
      ]
     },
     "execution_count": 5,
     "metadata": {
      "tags": []
     },
     "output_type": "execute_result"
    }
   ],
   "source": [
    "Metadata.head()"
   ]
  },
  {
   "cell_type": "markdown",
   "metadata": {
    "id": "1fuUbnuD3mOI"
   },
   "source": [
    "**Converting each image to a fixed size of 350×350. The values in the images are between 0 to 255. Neural networks work well with values between 0 to 1. Normalizing the values by dividing all of the values by 255.**"
   ]
  },
  {
   "cell_type": "code",
   "execution_count": 6,
   "metadata": {
    "colab": {
     "base_uri": "https://localhost:8080/"
    },
    "id": "z2xVyAcamnxu",
    "outputId": "c36ec8c3-c4d8-4635-d514-63490aae1cb5"
   },
   "outputs": [
    {
     "name": "stderr",
     "output_type": "stream",
     "text": [
      "100%|██████████| 7254/7254 [00:27<00:00, 262.61it/s]\n"
     ]
    }
   ],
   "source": [
    "image_height=350\n",
    "image_width=350\n",
    "x=[]\n",
    "for i in tqdm(range(Metadata.shape[0])):\n",
    "  path = '/content/Movies-Poster_Dataset/Images/' + Metadata['Id'][i] + '.jpg'\n",
    "  img= image.load_img(path, target_size=(image_height, image_width, 3))\n",
    "  img=image.img_to_array(img)\n",
    "  img= img/255.0\n",
    "  x.append(img)\n",
    " \n",
    "x=np.array(x)"
   ]
  },
  {
   "cell_type": "markdown",
   "metadata": {
    "id": "YmOtcwLR4A_m"
   },
   "source": [
    "**x is a numpy array which has 7254 images. Each image has the size 350×350 and is 3 dimensional as the image is a RGB coloured image.**"
   ]
  },
  {
   "cell_type": "code",
   "execution_count": 7,
   "metadata": {
    "colab": {
     "base_uri": "https://localhost:8080/"
    },
    "id": "WWDFNVtpmn2R",
    "outputId": "128a9da4-b17f-4a81-aa3a-6b0063c4dbc8"
   },
   "outputs": [
    {
     "data": {
      "text/plain": [
       "(7254, 350, 350, 3)"
      ]
     },
     "execution_count": 7,
     "metadata": {
      "tags": []
     },
     "output_type": "execute_result"
    }
   ],
   "source": [
    "x.shape"
   ]
  },
  {
   "cell_type": "code",
   "execution_count": 8,
   "metadata": {
    "colab": {
     "base_uri": "https://localhost:8080/",
     "height": 286
    },
    "id": "CaSh6swAmn5Q",
    "outputId": "38da6f00-a658-437c-da2f-27202ccde36f"
   },
   "outputs": [
    {
     "data": {
      "text/plain": [
       "<matplotlib.image.AxesImage at 0x7fdf0d3d1390>"
      ]
     },
     "execution_count": 8,
     "metadata": {
      "tags": []
     },
     "output_type": "execute_result"
    },
    {
     "data": {
      "image/png": "[encoded data removed]",
      "text/plain": [
       "<Figure size 432x288 with 1 Axes>"
      ]
     },
     "metadata": {
      "needs_background": "light",
      "tags": []
     },
     "output_type": "display_data"
    }
   ],
   "source": [
    "plt.imshow(x[10])"
   ]
  },
  {
   "cell_type": "code",
   "execution_count": 9,
   "metadata": {
    "colab": {
     "base_uri": "https://localhost:8080/",
     "height": 35
    },
    "id": "4JfOZt6Fmn74",
    "outputId": "c46eb917-dca2-46d5-c3a4-5928a5adbddf"
   },
   "outputs": [
    {
     "data": {
      "application/vnd.google.colaboratory.intrinsic+json": {
       "type": "string"
      },
      "text/plain": [
       "\"['Action', 'Comedy', 'Sci-Fi']\""
      ]
     },
     "execution_count": 9,
     "metadata": {
      "tags": []
     },
     "output_type": "execute_result"
    }
   ],
   "source": [
    "Metadata['Genre'][10]"
   ]
  },
  {
   "cell_type": "code",
   "execution_count": 10,
   "metadata": {
    "id": "a30Aimyez4mI"
   },
   "outputs": [],
   "source": [
    "data_count=Metadata.iloc[:,2:].sum()"
   ]
  },
  {
   "cell_type": "code",
   "execution_count": 11,
   "metadata": {
    "colab": {
     "base_uri": "https://localhost:8080/"
    },
    "id": "iRpA6so_5ZUO",
    "outputId": "3431354a-b76e-43e1-e337-fe5e3f0f1745"
   },
   "outputs": [
    {
     "data": {
      "text/plain": [
       "Action         1343\n",
       "Adventure       870\n",
       "Animation       244\n",
       "Biography       441\n",
       "Comedy         2900\n",
       "Crime          1176\n",
       "Documentary     652\n",
       "Drama          3619\n",
       "Family          434\n",
       "Fantasy         467\n",
       "History         224\n",
       "Horror          503\n",
       "Music           305\n",
       "Musical          97\n",
       "Mystery         454\n",
       "N/A              10\n",
       "News             21\n",
       "Reality-TV        2\n",
       "Romance        1334\n",
       "Sci-Fi          399\n",
       "Short            46\n",
       "Sport           221\n",
       "Thriller        918\n",
       "War             144\n",
       "Western          50\n",
       "dtype: int64"
      ]
     },
     "execution_count": 11,
     "metadata": {
      "tags": []
     },
     "output_type": "execute_result"
    }
   ],
   "source": [
    "data_count"
   ]
  },
  {
   "cell_type": "markdown",
   "metadata": {
    "id": "eqmd5phcJAiv"
   },
   "source": [
    "## **Visualizing the Occurances of a Particular Genre**"
   ]
  },
  {
   "cell_type": "code",
   "execution_count": 12,
   "metadata": {
    "colab": {
     "base_uri": "https://localhost:8080/",
     "height": 681
    },
    "id": "s7mq1KzJuLVJ",
    "outputId": "6652933a-c3f5-4cfc-c882-376a34bd8c31"
   },
   "outputs": [
    {
     "name": "stderr",
     "output_type": "stream",
     "text": [
      "/usr/local/lib/python3.7/dist-packages/seaborn/_decorators.py:43: FutureWarning: Pass the following variables as keyword args: x, y. From version 0.12, the only valid positional argument will be `data`, and passing other arguments without an explicit keyword will result in an error or misinterpretation.\n",
      "  FutureWarning\n"
     ]
    },
    {
     "data": {
      "image/png": "[encoded data removed]",
      "text/plain": [
       "<Figure size 720x720 with 1 Axes>"
      ]
     },
     "metadata": {
      "needs_background": "light",
      "tags": []
     },
     "output_type": "display_data"
    }
   ],
   "source": [
    "plt.figure(figsize=(10,10)) \n",
    "\n",
    "g = data_count.nlargest(n = 50) \n",
    "ax = sns.barplot(g.values, g.index, alpha=1)\n",
    "\n",
    "plt.title(\"Genre Count\", weight='bold', fontsize=16)\n",
    "plt.ylabel('Genres', weight='bold', fontsize=12)\n",
    "plt.xlabel('No. of Occurrences', weight='bold', fontsize=12)\n",
    "\n",
    "totals = []\n",
    "\n",
    "for i in ax.patches:\n",
    "    totals.append(i.get_width())\n",
    "\n",
    "total = sum(totals)\n",
    "\n",
    "for i in ax.patches:\n",
    "    ax.text(i.get_width()+.5, i.get_y()+.55, \\\n",
    "            str(round((i.get_width()))), fontsize=10, color='dimgrey')\n",
    "\n",
    "plt.show()"
   ]
  },
  {
   "cell_type": "markdown",
   "metadata": {
    "id": "G9sXwokIER3R"
   },
   "source": [
    "Now preparing the dataset for splitting. We have already got the feature space in **x**. Now we will have to make the target in **y**. For that, we will drop the Id and Genre columns from data."
   ]
  },
  {
   "cell_type": "code",
   "execution_count": 13,
   "metadata": {
    "colab": {
     "base_uri": "https://localhost:8080/"
    },
    "id": "s1LNtmDcmn-h",
    "outputId": "23e4cb4b-a9b8-418b-a03a-8861def17320"
   },
   "outputs": [
    {
     "data": {
      "text/plain": [
       "(7254, 25)"
      ]
     },
     "execution_count": 13,
     "metadata": {
      "tags": []
     },
     "output_type": "execute_result"
    }
   ],
   "source": [
    "y= Metadata.drop(['Id','Genre'], axis = 1)\n",
    "y= y.to_numpy()\n",
    "y.shape"
   ]
  },
  {
   "cell_type": "markdown",
   "metadata": {
    "id": "ZqF1rlzw4paz"
   },
   "source": [
    " **Spliting the data into training and testing giving a test_size = 0.30 will keep 30% data for testing and 70% data will be used for training the model. Random_state controls the shuffling applied to the data before applying the split.**"
   ]
  },
  {
   "cell_type": "code",
   "execution_count": 14,
   "metadata": {
    "id": "XOntFSoTmoA4"
   },
   "outputs": [],
   "source": [
    "x_train, x_test, y_train, y_test = train_test_split(x,y, random_state = 20, test_size=0.30)"
   ]
  },
  {
   "cell_type": "code",
   "execution_count": 15,
   "metadata": {
    "colab": {
     "base_uri": "https://localhost:8080/"
    },
    "id": "WHMUFw39rKXu",
    "outputId": "beaef52c-f657-47a8-f349-22f53857c252"
   },
   "outputs": [
    {
     "data": {
      "text/plain": [
       "(350, 350, 3)"
      ]
     },
     "execution_count": 15,
     "metadata": {
      "tags": []
     },
     "output_type": "execute_result"
    }
   ],
   "source": [
    "x_train[0].shape"
   ]
  },
  {
   "cell_type": "markdown",
   "metadata": {
    "id": "wHN4L-hX5B7e"
   },
   "source": [
    "## **Building a CNN Model**"
   ]
  },
  {
   "cell_type": "code",
   "execution_count": 16,
   "metadata": {
    "id": "Q6wZMXk0moDf"
   },
   "outputs": [],
   "source": [
    "model = Sequential()\n",
    "model.add(Conv2D(16, (3,3), activation='relu', input_shape = x_train[0].shape))\n",
    "model.add(BatchNormalization())\n",
    "model.add(MaxPool2D(2,2))\n",
    "model.add(Dropout(0.3))\n",
    "\n",
    "model.add(Conv2D(32, (3,3), activation='relu'))\n",
    "model.add(BatchNormalization())\n",
    "model.add(MaxPool2D(2,2))\n",
    "model.add(Dropout(0.3))\n",
    "\n",
    "model.add(Conv2D(64, (3,3), activation='relu'))\n",
    "model.add(BatchNormalization())\n",
    "model.add(MaxPool2D(2,2))\n",
    "model.add(Dropout(0.4))\n",
    "\n",
    "model.add(Conv2D(128, (3,3), activation='relu'))\n",
    "model.add(BatchNormalization())\n",
    "model.add(MaxPool2D(2,2))\n",
    "model.add(Dropout(0.5))\n",
    "\n",
    "model.add(Flatten())\n",
    "\n",
    "model.add(Dense(128, activation='relu'))\n",
    "model.add(BatchNormalization())\n",
    "model.add(Dropout(0.5))\n",
    "\n",
    "model.add(Dense(128, activation='relu'))\n",
    "model.add(BatchNormalization())\n",
    "model.add(Dropout(0.5))\n",
    "\n",
    "model.add(Dense(25, activation='softmax'))"
   ]
  },
  {
   "cell_type": "code",
   "execution_count": 30,
   "metadata": {
    "colab": {
     "base_uri": "https://localhost:8080/"
    },
    "id": "COVhd8tnmoFw",
    "outputId": "88586249-315b-4b33-ad67-acb7e081f33f"
   },
   "outputs": [
    {
     "name": "stdout",
     "output_type": "stream",
     "text": [
      "Model: \"sequential\"\n",
      "_________________________________________________________________\n",
      "Layer (type)                 Output Shape              Param #   \n",
      "=================================================================\n",
      "conv2d (Conv2D)              (None, 348, 348, 16)      448       \n",
      "_________________________________________________________________\n",
      "batch_normalization (BatchNo (None, 348, 348, 16)      64        \n",
      "_________________________________________________________________\n",
      "max_pooling2d (MaxPooling2D) (None, 174, 174, 16)      0         \n",
      "_________________________________________________________________\n",
      "dropout (Dropout)            (None, 174, 174, 16)      0         \n",
      "_________________________________________________________________\n",
      "conv2d_1 (Conv2D)            (None, 172, 172, 32)      4640      \n",
      "_________________________________________________________________\n",
      "batch_normalization_1 (Batch (None, 172, 172, 32)      128       \n",
      "_________________________________________________________________\n",
      "max_pooling2d_1 (MaxPooling2 (None, 86, 86, 32)        0         \n",
      "_________________________________________________________________\n",
      "dropout_1 (Dropout)          (None, 86, 86, 32)        0         \n",
      "_________________________________________________________________\n",
      "conv2d_2 (Conv2D)            (None, 84, 84, 64)        18496     \n",
      "_________________________________________________________________\n",
      "batch_normalization_2 (Batch (None, 84, 84, 64)        256       \n",
      "_________________________________________________________________\n",
      "max_pooling2d_2 (MaxPooling2 (None, 42, 42, 64)        0         \n",
      "_________________________________________________________________\n",
      "dropout_2 (Dropout)          (None, 42, 42, 64)        0         \n",
      "_________________________________________________________________\n",
      "conv2d_3 (Conv2D)            (None, 40, 40, 128)       73856     \n",
      "_________________________________________________________________\n",
      "batch_normalization_3 (Batch (None, 40, 40, 128)       512       \n",
      "_________________________________________________________________\n",
      "max_pooling2d_3 (MaxPooling2 (None, 20, 20, 128)       0         \n",
      "_________________________________________________________________\n",
      "dropout_3 (Dropout)          (None, 20, 20, 128)       0         \n",
      "_________________________________________________________________\n",
      "flatten (Flatten)            (None, 51200)             0         \n",
      "_________________________________________________________________\n",
      "dense (Dense)                (None, 128)               6553728   \n",
      "_________________________________________________________________\n",
      "batch_normalization_4 (Batch (None, 128)               512       \n",
      "_________________________________________________________________\n",
      "dropout_4 (Dropout)          (None, 128)               0         \n",
      "_________________________________________________________________\n",
      "dense_1 (Dense)              (None, 128)               16512     \n",
      "_________________________________________________________________\n",
      "batch_normalization_5 (Batch (None, 128)               512       \n",
      "_________________________________________________________________\n",
      "dropout_5 (Dropout)          (None, 128)               0         \n",
      "_________________________________________________________________\n",
      "dense_2 (Dense)              (None, 25)                3225      \n",
      "=================================================================\n",
      "Total params: 6,672,889\n",
      "Trainable params: 6,671,897\n",
      "Non-trainable params: 992\n",
      "_________________________________________________________________\n"
     ]
    }
   ],
   "source": [
    "model.summary()"
   ]
  },
  {
   "cell_type": "markdown",
   "metadata": {
    "id": "mv8BJZ_Y5jiR"
   },
   "source": [
    "## **Compiling and Fitting the Model**"
   ]
  },
  {
   "cell_type": "code",
   "execution_count": 31,
   "metadata": {
    "id": "QK556z55moIV"
   },
   "outputs": [],
   "source": [
    "model.compile(optimizer=keras.optimizers.Adam(), loss=keras.losses.BinaryCrossentropy(), metrics=[keras.metrics.BinaryAccuracy()])"
   ]
  },
  {
   "cell_type": "code",
   "execution_count": 32,
   "metadata": {
    "colab": {
     "base_uri": "https://localhost:8080/"
    },
    "id": "HlUoz7CymoLA",
    "outputId": "965c7499-2bce-4cac-dd1e-5cd296ef0746"
   },
   "outputs": [
    {
     "name": "stdout",
     "output_type": "stream",
     "text": [
      "Epoch 1/10\n",
      "159/159 [==============================] - 13s 72ms/step - loss: 0.2373 - binary_accuracy: 0.9098 - val_loss: 0.2345 - val_binary_accuracy: 0.9126\n",
      "Epoch 2/10\n",
      "159/159 [==============================] - 11s 71ms/step - loss: 0.2343 - binary_accuracy: 0.9101 - val_loss: 0.2320 - val_binary_accuracy: 0.9119\n",
      "Epoch 3/10\n",
      "159/159 [==============================] - 11s 71ms/step - loss: 0.2318 - binary_accuracy: 0.9107 - val_loss: 0.2356 - val_binary_accuracy: 0.9099\n",
      "Epoch 4/10\n",
      "159/159 [==============================] - 11s 71ms/step - loss: 0.2299 - binary_accuracy: 0.9118 - val_loss: 0.2367 - val_binary_accuracy: 0.9127\n",
      "Epoch 5/10\n",
      "159/159 [==============================] - 11s 71ms/step - loss: 0.2277 - binary_accuracy: 0.9122 - val_loss: 0.2300 - val_binary_accuracy: 0.9133\n",
      "Epoch 6/10\n",
      "159/159 [==============================] - 11s 71ms/step - loss: 0.2248 - binary_accuracy: 0.9131 - val_loss: 0.2273 - val_binary_accuracy: 0.9137\n",
      "Epoch 7/10\n",
      "159/159 [==============================] - 11s 71ms/step - loss: 0.2208 - binary_accuracy: 0.9135 - val_loss: 0.2309 - val_binary_accuracy: 0.9126\n",
      "Epoch 8/10\n",
      "159/159 [==============================] - 11s 71ms/step - loss: 0.2186 - binary_accuracy: 0.9139 - val_loss: 0.2312 - val_binary_accuracy: 0.9148\n",
      "Epoch 9/10\n",
      "159/159 [==============================] - 11s 71ms/step - loss: 0.2144 - binary_accuracy: 0.9151 - val_loss: 0.2373 - val_binary_accuracy: 0.9119\n",
      "Epoch 10/10\n",
      "159/159 [==============================] - 11s 71ms/step - loss: 0.2115 - binary_accuracy: 0.9162 - val_loss: 0.2320 - val_binary_accuracy: 0.9142\n"
     ]
    }
   ],
   "source": [
    "GenrePred = model.fit(x_train, y_train, epochs=10, batch_size = 32, validation_data=(x_test, y_test))"
   ]
  },
  {
   "cell_type": "markdown",
   "metadata": {
    "id": "oHnbUaFz5yIe"
   },
   "source": [
    "# **Visualizing Model Accuracy**"
   ]
  },
  {
   "cell_type": "code",
   "execution_count": 33,
   "metadata": {
    "colab": {
     "base_uri": "https://localhost:8080/",
     "height": 295
    },
    "id": "XUatZBt9moNi",
    "outputId": "0fb5e76d-5c83-4f2d-bdcc-3afa76197c4d"
   },
   "outputs": [
    {
     "data": {
      "image/png": "[encoded data removed]",
      "text/plain": [
       "<Figure size 432x288 with 1 Axes>"
      ]
     },
     "metadata": {
      "needs_background": "light",
      "tags": []
     },
     "output_type": "display_data"
    }
   ],
   "source": [
    "def plot_learningCurve(GenrePred, epoch):\n",
    "# Plot training & validation accuracy values\n",
    "  epoch_range = range(1, epoch+1)\n",
    "  plt.plot(epoch_range, GenrePred.history['binary_accuracy'])\n",
    "  plt.plot(epoch_range, GenrePred.history['val_binary_accuracy'])\n",
    "  plt.title('Model Accuracy')\n",
    "  plt.ylabel('Accuracy')\n",
    "  plt.xlabel('Epoch')\n",
    "  plt.legend(['Train', 'Val'], loc='upper left')\n",
    "  plt.show()\n",
    "\n",
    "plot_learningCurve(GenrePred, 10)"
   ]
  },
  {
   "cell_type": "markdown",
   "metadata": {
    "id": "O8HnJgnPHuJv"
   },
   "source": [
    "# **Visualizing Model Loss**"
   ]
  },
  {
   "cell_type": "code",
   "execution_count": 34,
   "metadata": {
    "colab": {
     "base_uri": "https://localhost:8080/",
     "height": 295
    },
    "id": "kMRA2BjrsNCw",
    "outputId": "39eb962d-c5d2-4fb5-9cf4-95507be416e4"
   },
   "outputs": [
    {
     "data": {
      "image/png": "[encoded data removed]",
      "text/plain": [
       "<Figure size 432x288 with 1 Axes>"
      ]
     },
     "metadata": {
      "needs_background": "light",
      "tags": []
     },
     "output_type": "display_data"
    }
   ],
   "source": [
    "def plot_learningCurve(GenrePred, epoch):\n",
    "# Plot training & validation loss values\n",
    "  epoch_range = range(1, epoch+1)\n",
    "  plt.plot(epoch_range, GenrePred.history['loss'])\n",
    "  plt.plot(epoch_range, GenrePred.history['val_loss'])\n",
    "  plt.title('Model Loss')\n",
    "  plt.ylabel('Loss')\n",
    "  plt.xlabel('Epoch')\n",
    "  plt.legend(['Train', 'Val'], loc='upper left')\n",
    "  plt.show()\n",
    "\n",
    "plot_learningCurve(GenrePred, 10)"
   ]
  },
  {
   "cell_type": "markdown",
   "metadata": {
    "id": "L2Upw8-T6HcN"
   },
   "source": [
    "## **Testing the Model on Some Movie Posters**"
   ]
  },
  {
   "cell_type": "markdown",
   "metadata": {
    "id": "VLXRNtAZLFEp"
   },
   "source": [
    "Here, **model.predict()** will give us the probabilities for all the 25 classes. But we are interested in only the top 3 classes. So, we will sort the probabilities using np.argsort() and then select the classes having the top 3 probabilities."
   ]
  },
  {
   "cell_type": "code",
   "execution_count": 22,
   "metadata": {
    "colab": {
     "base_uri": "https://localhost:8080/",
     "height": 370
    },
    "id": "Iox04sU0moQH",
    "outputId": "98f83a79-136a-4948-c529-923c46368c00"
   },
   "outputs": [
    {
     "ename": "FileNotFoundError",
     "evalue": "ignored",
     "output_type": "error",
     "traceback": [
      "\u001b[0;31m---------------------------------------------------------------------------\u001b[0m",
      "\u001b[0;31mFileNotFoundError\u001b[0m                         Traceback (most recent call last)",
      "\u001b[0;32m<ipython-input-22-5a604dceed6c>\u001b[0m in \u001b[0;36m<module>\u001b[0;34m()\u001b[0m\n\u001b[0;32m----> 1\u001b[0;31m \u001b[0mimg\u001b[0m \u001b[0;34m=\u001b[0m \u001b[0mimage\u001b[0m\u001b[0;34m.\u001b[0m\u001b[0mload_img\u001b[0m\u001b[0;34m(\u001b[0m\u001b[0;34m'black-panther-web.jpg'\u001b[0m\u001b[0;34m,\u001b[0m \u001b[0mtarget_size\u001b[0m\u001b[0;34m=\u001b[0m\u001b[0;34m(\u001b[0m\u001b[0mimage_height\u001b[0m\u001b[0;34m,\u001b[0m \u001b[0mimage_width\u001b[0m\u001b[0;34m,\u001b[0m \u001b[0;36m3\u001b[0m\u001b[0;34m)\u001b[0m\u001b[0;34m)\u001b[0m\u001b[0;34m\u001b[0m\u001b[0;34m\u001b[0m\u001b[0m\n\u001b[0m\u001b[1;32m      2\u001b[0m \u001b[0mplt\u001b[0m\u001b[0;34m.\u001b[0m\u001b[0mimshow\u001b[0m\u001b[0;34m(\u001b[0m\u001b[0mimg\u001b[0m\u001b[0;34m)\u001b[0m\u001b[0;34m\u001b[0m\u001b[0;34m\u001b[0m\u001b[0m\n\u001b[1;32m      3\u001b[0m \u001b[0mimg\u001b[0m \u001b[0;34m=\u001b[0m \u001b[0mimage\u001b[0m\u001b[0;34m.\u001b[0m\u001b[0mimg_to_array\u001b[0m\u001b[0;34m(\u001b[0m\u001b[0mimg\u001b[0m\u001b[0;34m)\u001b[0m\u001b[0;34m\u001b[0m\u001b[0;34m\u001b[0m\u001b[0m\n\u001b[1;32m      4\u001b[0m \u001b[0mimg\u001b[0m \u001b[0;34m=\u001b[0m \u001b[0mimg\u001b[0m\u001b[0;34m/\u001b[0m\u001b[0;36m255.0\u001b[0m\u001b[0;34m\u001b[0m\u001b[0;34m\u001b[0m\u001b[0m\n\u001b[1;32m      5\u001b[0m \u001b[0;34m\u001b[0m\u001b[0m\n",
      "\u001b[0;32m/usr/local/lib/python3.7/dist-packages/tensorflow/python/keras/preprocessing/image.py\u001b[0m in \u001b[0;36mload_img\u001b[0;34m(path, grayscale, color_mode, target_size, interpolation)\u001b[0m\n\u001b[1;32m    294\u001b[0m   \"\"\"\n\u001b[1;32m    295\u001b[0m   return image.load_img(path, grayscale=grayscale, color_mode=color_mode,\n\u001b[0;32m--> 296\u001b[0;31m                         target_size=target_size, interpolation=interpolation)\n\u001b[0m\u001b[1;32m    297\u001b[0m \u001b[0;34m\u001b[0m\u001b[0m\n\u001b[1;32m    298\u001b[0m \u001b[0;34m\u001b[0m\u001b[0m\n",
      "\u001b[0;32m/usr/local/lib/python3.7/dist-packages/keras_preprocessing/image/utils.py\u001b[0m in \u001b[0;36mload_img\u001b[0;34m(path, grayscale, color_mode, target_size, interpolation)\u001b[0m\n\u001b[1;32m    111\u001b[0m         raise ImportError('Could not import PIL.Image. '\n\u001b[1;32m    112\u001b[0m                           'The use of `load_img` requires PIL.')\n\u001b[0;32m--> 113\u001b[0;31m     \u001b[0;32mwith\u001b[0m \u001b[0mopen\u001b[0m\u001b[0;34m(\u001b[0m\u001b[0mpath\u001b[0m\u001b[0;34m,\u001b[0m \u001b[0;34m'rb'\u001b[0m\u001b[0;34m)\u001b[0m \u001b[0;32mas\u001b[0m \u001b[0mf\u001b[0m\u001b[0;34m:\u001b[0m\u001b[0;34m\u001b[0m\u001b[0;34m\u001b[0m\u001b[0m\n\u001b[0m\u001b[1;32m    114\u001b[0m         \u001b[0mimg\u001b[0m \u001b[0;34m=\u001b[0m \u001b[0mpil_image\u001b[0m\u001b[0;34m.\u001b[0m\u001b[0mopen\u001b[0m\u001b[0;34m(\u001b[0m\u001b[0mio\u001b[0m\u001b[0;34m.\u001b[0m\u001b[0mBytesIO\u001b[0m\u001b[0;34m(\u001b[0m\u001b[0mf\u001b[0m\u001b[0;34m.\u001b[0m\u001b[0mread\u001b[0m\u001b[0;34m(\u001b[0m\u001b[0;34m)\u001b[0m\u001b[0;34m)\u001b[0m\u001b[0;34m)\u001b[0m\u001b[0;34m\u001b[0m\u001b[0;34m\u001b[0m\u001b[0m\n\u001b[1;32m    115\u001b[0m         \u001b[0;32mif\u001b[0m \u001b[0mcolor_mode\u001b[0m \u001b[0;34m==\u001b[0m \u001b[0;34m'grayscale'\u001b[0m\u001b[0;34m:\u001b[0m\u001b[0;34m\u001b[0m\u001b[0;34m\u001b[0m\u001b[0m\n",
      "\u001b[0;31mFileNotFoundError\u001b[0m: [Errno 2] No such file or directory: 'black-panther-web.jpg'"
     ]
    }
   ],
   "source": [
    "img = image.load_img('black-panther-web.jpg', target_size=(image_height, image_width, 3))\n",
    "plt.imshow(img)\n",
    "img = image.img_to_array(img)\n",
    "img = img/255.0\n",
    "\n",
    "img = img.reshape(1, image_height, image_width, 3)\n",
    "\n",
    "classes = Metadata.columns[2:]\n",
    "y_prob = model.predict(img)\n",
    "top3 = np.argsort(y_prob[0])[:-4:-1]\n",
    "\n",
    "for i in range(3):\n",
    "  print(classes[top3[i]])"
   ]
  },
  {
   "cell_type": "code",
   "execution_count": null,
   "metadata": {
    "id": "WDX-ZwqSns3i"
   },
   "outputs": [],
   "source": [
    "img = image.load_img('1917.jpg', target_size=(image_height, image_width, 3))\n",
    "plt.imshow(img)\n",
    "img = image.img_to_array(img)\n",
    "img = img/255.0\n",
    "\n",
    "img = img.reshape(1, image_height, image_width, 3)\n",
    "\n",
    "classes = Metadata.columns[2:]\n",
    "y_prob = model.predict(img)\n",
    "top3 = np.argsort(y_prob[0])[:-4:-1]\n",
    "\n",
    "for i in range(3):\n",
    "  print(classes[top3[i]])"
   ]
  },
  {
   "cell_type": "code",
   "execution_count": null,
   "metadata": {
    "id": "nW-Pi3YboF2g"
   },
   "outputs": [],
   "source": [
    "img = image.load_img('Coolie.jpg', target_size=(image_height, image_width, 3))\n",
    "plt.imshow(img)\n",
    "img = image.img_to_array(img)\n",
    "img = img/255.0\n",
    "\n",
    "img = img.reshape(1, image_height, image_width, 3)\n",
    "\n",
    "classes = Metadata.columns[2:]\n",
    "y_prob = model.predict(img)\n",
    "top3 = np.argsort(y_prob[0])[:-4:-1]\n",
    "\n",
    "for i in range(3):\n",
    "  print(classes[top3[i]])"
   ]
  },
  {
   "cell_type": "code",
   "execution_count": null,
   "metadata": {
    "id": "yZsBP6pYcvtU"
   },
   "outputs": [],
   "source": [
    "img = image.load_img('Hollywood.jpg', target_size=(image_height, image_width, 3))\n",
    "plt.imshow(img)\n",
    "img = image.img_to_array(img)\n",
    "img = img/255.0\n",
    "\n",
    "img = img.reshape(1, image_height, image_width, 3)\n",
    "\n",
    "classes = Metadata.columns[2:]\n",
    "y_prob = model.predict(img)\n",
    "top3 = np.argsort(y_prob[0])[:-4:-1]\n",
    "\n",
    "for i in range(3):\n",
    "  print(classes[top3[i]])"
   ]
  },
  {
   "cell_type": "code",
   "execution_count": null,
   "metadata": {
    "id": "xPasgVFVf1EO"
   },
   "outputs": [],
   "source": [
    "img = image.load_img('Lalaland.jpg', target_size=(image_height, image_width, 3))\n",
    "plt.imshow(img)\n",
    "img = image.img_to_array(img)\n",
    "img = img/255.0\n",
    "\n",
    "img = img.reshape(1, image_height, image_width, 3)\n",
    "\n",
    "classes = Metadata.columns[2:]\n",
    "y_prob = model.predict(img)\n",
    "top3 = np.argsort(y_prob[0])[:-4:-1]\n",
    "\n",
    "for i in range(3):\n",
    "  print(classes[top3[i]])"
   ]
  },
  {
   "cell_type": "code",
   "execution_count": null,
   "metadata": {
    "id": "iqdGErhvpcsb"
   },
   "outputs": [],
   "source": [
    "img = image.load_img('Parasite.jpg', target_size=(image_height, image_width, 3))\n",
    "plt.imshow(img)\n",
    "img = image.img_to_array(img)\n",
    "img = img/255.0\n",
    "\n",
    "img = img.reshape(1, image_height, image_width, 3)\n",
    "\n",
    "classes = Metadata.columns[2:]\n",
    "y_prob = model.predict(img)\n",
    "top3 = np.argsort(y_prob[0])[:-4:-1]\n",
    "\n",
    "for i in range(3):\n",
    "  print(classes[top3[i]])"
   ]
  },
  {
   "cell_type": "code",
   "execution_count": null,
   "metadata": {
    "id": "kBREb8RP4E5x"
   },
   "outputs": [],
   "source": [
    "img = image.load_img('joker.jpg', target_size=(image_height, image_width, 3))\n",
    "plt.imshow(img)\n",
    "img = image.img_to_array(img)\n",
    "img = img/255.0\n",
    "\n",
    "img = img.reshape(1, image_height, image_width, 3)\n",
    "\n",
    "classes = Metadata.columns[2:]\n",
    "y_prob = model.predict(img)\n",
    "top3 = np.argsort(y_prob[0])[:-4:-1]\n",
    "\n",
    "for i in range(3):\n",
    "  print(classes[top3[i]])"
   ]
  },
  {
   "cell_type": "code",
   "execution_count": null,
   "metadata": {
    "id": "iYksAQAQ4MuL"
   },
   "outputs": [],
   "source": [
    "img = image.load_img('moonlight.jpg', target_size=(image_height, image_width, 3))\n",
    "plt.imshow(img)\n",
    "img = image.img_to_array(img)\n",
    "img = img/255.0\n",
    "\n",
    "img = img.reshape(1, image_height, image_width, 3)\n",
    "\n",
    "classes = Metadata.columns[2:]\n",
    "y_prob = model.predict(img)\n",
    "top3 = np.argsort(y_prob[0])[:-4:-1]\n",
    "\n",
    "for i in range(3):\n",
    "  print(classes[top3[i]])"
   ]
  },
  {
   "cell_type": "code",
   "execution_count": null,
   "metadata": {
    "id": "wIeeyZqc5P_z"
   },
   "outputs": [],
   "source": [
    "img = image.load_img('us-1.jpg', target_size=(image_height, image_width, 3))\n",
    "plt.imshow(img)\n",
    "img = image.img_to_array(img)\n",
    "img = img/255.0\n",
    "\n",
    "img = img.reshape(1, image_height, image_width, 3)\n",
    "\n",
    "classes = Metadata.columns[2:]\n",
    "y_prob = model.predict(img)\n",
    "top3 = np.argsort(y_prob[0])[:-4:-1]\n",
    "\n",
    "for i in range(3):\n",
    "  print(classes[top3[i]])"
   ]
  },
  {
   "cell_type": "code",
   "execution_count": 38,
   "metadata": {
    "colab": {
     "base_uri": "https://localhost:8080/"
    },
    "id": "sVLGOBN5ManJ",
    "outputId": "b0a7b2e1-434a-4035-f384-877da38aa462"
   },
   "outputs": [
    {
     "name": "stdout",
     "output_type": "stream",
     "text": [
      "69/69 [==============================] - 18s 24ms/step - loss: 0.2320 - binary_accuracy: 0.9142\n"
     ]
    }
   ],
   "source": [
    "from keras.models import load_model\n",
    "model.save(\"model1.h5\")\n",
    "loaded_model = load_model(\"model1.h5\")\n",
    "loss, accuracy = loaded_model.evaluate(x_test, y_test)"
   ]
  },
  {
   "cell_type": "code",
   "execution_count": 23,
   "metadata": {
    "colab": {
     "base_uri": "https://localhost:8080/"
    },
    "id": "ANgj0-TnH0l-",
    "outputId": "97b6f7d1-fe6a-4f6d-8860-d19fc8d07f37"
   },
   "outputs": [
    {
     "name": "stdout",
     "output_type": "stream",
     "text": [
      "\u001b[K     |████████████████████████████████| 1.4MB 6.5MB/s \n",
      "\u001b[K     |████████████████████████████████| 215kB 42.2MB/s \n",
      "\u001b[K     |████████████████████████████████| 1.9MB 43.2MB/s \n",
      "\u001b[K     |████████████████████████████████| 962kB 36.5MB/s \n",
      "\u001b[K     |████████████████████████████████| 71kB 8.5MB/s \n",
      "\u001b[K     |████████████████████████████████| 3.2MB 45.7MB/s \n",
      "\u001b[?25h  Building wheel for ffmpy (setup.py) ... \u001b[?25l\u001b[?25hdone\n",
      "  Building wheel for flask-cachebuster (setup.py) ... \u001b[?25l\u001b[?25hdone\n"
     ]
    }
   ],
   "source": [
    "!pip install --quiet gradio"
   ]
  },
  {
   "cell_type": "code",
   "execution_count": 24,
   "metadata": {
    "id": "Rg7AKanqIQWE"
   },
   "outputs": [],
   "source": [
    "import gradio as gr"
   ]
  },
  {
   "cell_type": "code",
   "execution_count": 27,
   "metadata": {
    "colab": {
     "base_uri": "https://localhost:8080/"
    },
    "id": "Xb1jRA6XISDP",
    "outputId": "f96dfd82-655c-4606-c222-f0eb5bdc9618"
   },
   "outputs": [
    {
     "data": {
      "text/plain": [
       "['Action',\n",
       " 'Adventure',\n",
       " 'Animation',\n",
       " 'Biography',\n",
       " 'Comedy',\n",
       " 'Crime',\n",
       " 'Documentary',\n",
       " 'Drama',\n",
       " 'Family',\n",
       " 'Fantasy',\n",
       " 'History',\n",
       " 'Horror',\n",
       " 'Music',\n",
       " 'Musical',\n",
       " 'Mystery',\n",
       " 'N/A',\n",
       " 'News',\n",
       " 'Reality-TV',\n",
       " 'Romance',\n",
       " 'Sci-Fi',\n",
       " 'Short',\n",
       " 'Sport',\n",
       " 'Thriller',\n",
       " 'War',\n",
       " 'Western']"
      ]
     },
     "execution_count": 27,
     "metadata": {
      "tags": []
     },
     "output_type": "execute_result"
    }
   ],
   "source": [
    "classes = Metadata.columns[2:]\n",
    "labels = Metadata.columns[2:].to_list()\n",
    "labels"
   ]
  },
  {
   "cell_type": "code",
   "execution_count": 35,
   "metadata": {
    "id": "clyT8OfKIT62"
   },
   "outputs": [],
   "source": [
    "def classify_genre(img):\n",
    "  img = img/255.0\n",
    "  img = img.reshape(1, 350, 350, 3)\n",
    "  y_prob = model.predict(img)[0]\n",
    "  return {labels[i] : float(y_prob[i]) for i in range(25)}"
   ]
  },
  {
   "cell_type": "code",
   "execution_count": 36,
   "metadata": {
    "colab": {
     "base_uri": "https://localhost:8080/",
     "height": 918
    },
    "id": "nNb7EJcBIW75",
    "outputId": "ae66c733-c8c3-43ec-8bb9-82d459114f50"
   },
   "outputs": [
    {
     "name": "stdout",
     "output_type": "stream",
     "text": [
      "Colab notebook detected. This cell will run indefinitely so that you can see errors and logs. To turn off, set debug=False in launch().\n",
      "This share link will expire in 24 hours. If you need a permanent link, visit: https://gradio.app/introducing-hosted (NEW!)\n",
      "Running on External URL: https://30124.gradio.app\n",
      "Interface loading below...\n"
     ]
    },
    {
     "data": {
      "text/html": [
       "\n",
       "        <iframe\n",
       "            width=\"900\"\n",
       "            height=\"500\"\n",
       "            src=\"https://30124.gradio.app\"\n",
       "            frameborder=\"0\"\n",
       "            allowfullscreen\n",
       "        ></iframe>\n",
       "        "
      ],
      "text/plain": [
       "<IPython.lib.display.IFrame at 0x7fdd45b97c50>"
      ]
     },
     "metadata": {
      "tags": []
     },
     "output_type": "display_data"
    },
    {
     "ename": "KeyboardInterrupt",
     "evalue": "ignored",
     "output_type": "error",
     "traceback": [
      "\u001b[0;31m---------------------------------------------------------------------------\u001b[0m",
      "\u001b[0;31mKeyboardInterrupt\u001b[0m                         Traceback (most recent call last)",
      "\u001b[0;32m<ipython-input-36-f2584b2f49f5>\u001b[0m in \u001b[0;36m<module>\u001b[0;34m()\u001b[0m\n\u001b[1;32m      3\u001b[0m \u001b[0;34m\u001b[0m\u001b[0m\n\u001b[1;32m      4\u001b[0m gr.Interface(fn = classify_genre, inputs= image, outputs = label, capture_session=True, title= 'Movie  Genre Prediction', \n\u001b[0;32m----> 5\u001b[0;31m              description= '      Predicting the Top 3 Genre of the Movies as well the corresponding percentage of the probabilities judging from thier poster').launch(debug = 'True')\n\u001b[0m",
      "\u001b[0;32m/usr/local/lib/python3.7/dist-packages/gradio/interface.py\u001b[0m in \u001b[0;36mlaunch\u001b[0;34m(self, inline, inbrowser, share, debug, auth, auth_message, private_endpoint, prevent_thread_lock)\u001b[0m\n\u001b[1;32m    540\u001b[0m             \u001b[0;32mwhile\u001b[0m \u001b[0;32mTrue\u001b[0m\u001b[0;34m:\u001b[0m\u001b[0;34m\u001b[0m\u001b[0;34m\u001b[0m\u001b[0m\n\u001b[1;32m    541\u001b[0m                 \u001b[0msys\u001b[0m\u001b[0;34m.\u001b[0m\u001b[0mstdout\u001b[0m\u001b[0;34m.\u001b[0m\u001b[0mflush\u001b[0m\u001b[0;34m(\u001b[0m\u001b[0;34m)\u001b[0m\u001b[0;34m\u001b[0m\u001b[0;34m\u001b[0m\u001b[0m\n\u001b[0;32m--> 542\u001b[0;31m                 \u001b[0mtime\u001b[0m\u001b[0;34m.\u001b[0m\u001b[0msleep\u001b[0m\u001b[0;34m(\u001b[0m\u001b[0;36m0.1\u001b[0m\u001b[0;34m)\u001b[0m\u001b[0;34m\u001b[0m\u001b[0;34m\u001b[0m\u001b[0m\n\u001b[0m\u001b[1;32m    543\u001b[0m         \u001b[0mis_in_interactive_mode\u001b[0m \u001b[0;34m=\u001b[0m \u001b[0mbool\u001b[0m\u001b[0;34m(\u001b[0m\u001b[0mgetattr\u001b[0m\u001b[0;34m(\u001b[0m\u001b[0msys\u001b[0m\u001b[0;34m,\u001b[0m \u001b[0;34m'ps1'\u001b[0m\u001b[0;34m,\u001b[0m \u001b[0msys\u001b[0m\u001b[0;34m.\u001b[0m\u001b[0mflags\u001b[0m\u001b[0;34m.\u001b[0m\u001b[0minteractive\u001b[0m\u001b[0;34m)\u001b[0m\u001b[0;34m)\u001b[0m\u001b[0;34m\u001b[0m\u001b[0;34m\u001b[0m\u001b[0m\n\u001b[1;32m    544\u001b[0m         \u001b[0;32mif\u001b[0m \u001b[0;32mnot\u001b[0m \u001b[0mprevent_thread_lock\u001b[0m \u001b[0;32mand\u001b[0m \u001b[0;32mnot\u001b[0m \u001b[0mis_in_interactive_mode\u001b[0m\u001b[0;34m:\u001b[0m\u001b[0;34m\u001b[0m\u001b[0;34m\u001b[0m\u001b[0m\n",
      "\u001b[0;31mKeyboardInterrupt\u001b[0m: "
     ]
    }
   ],
   "source": [
    "image = gr.inputs.Image(shape=(350,350))\n",
    "label = gr.outputs.Label(num_top_classes=3)\n",
    "\n",
    "gr.Interface(fn = classify_genre, inputs= image, outputs = label, capture_session=True, title= 'Movie  Genre Prediction', \n",
    "             description= '      Predicting the Top 3 Genre of the Movies as well the corresponding percentage of the probabilities judging from thier poster').launch(debug = 'True')"
   ]
  }
 ],
 "metadata": {
  "accelerator": "GPU",
  "colab": {
   "collapsed_sections": [],
   "machine_shape": "hm",
   "name": "Analytics_Project_&_Web_App_Final.ipynb",
   "provenance": [],
   "toc_visible": true
  },
  "kernelspec": {
   "display_name": "Python 3",
   "language": "python",
   "name": "python3"
  },
  "language_info": {
   "codemirror_mode": {
    "name": "ipython",
    "version": 3
   },
   "file_extension": ".py",
   "mimetype": "text/x-python",
   "name": "python",
   "nbconvert_exporter": "python",
   "pygments_lexer": "ipython3",
   "version": "3.8.8"
  }
 },
 "nbformat": 4,
 "nbformat_minor": 1
}
